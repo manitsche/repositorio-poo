{
 "cells": [
  {
   "cell_type": "markdown",
   "id": "14e01bb5-4b25-4fa7-b2db-00e037b227a6",
   "metadata": {},
   "source": [
    "# Atividade Teste"
   ]
  },
  {
   "cell_type": "markdown",
   "id": "4512eb5c-4a84-45e3-a4e5-998eeab4ab2b",
   "metadata": {},
   "source": [
    "Gere uma saída de texto entre aspas duplas, criando uma nova linha e posicionando o cursor na linha abaixo."
   ]
  },
  {
   "cell_type": "code",
   "execution_count": 13,
   "id": "1cfa7b6b-5cfa-4a91-bd45-1479ccfb2e81",
   "metadata": {
    "tags": []
   },
   "outputs": [
    {
     "name": "stdout",
     "output_type": "stream",
     "text": [
      " \"Um texto qualquer\" \n"
     ]
    }
   ],
   "source": [
    "System.out.println(\" \\\"Um texto qualquer\\\" \");"
   ]
  }
 ],
 "metadata": {
  "kernelspec": {
   "display_name": "Java",
   "language": "java",
   "name": "java"
  },
  "language_info": {
   "codemirror_mode": "java",
   "file_extension": ".jshell",
   "mimetype": "text/x-java-source",
   "name": "Java",
   "pygments_lexer": "java",
   "version": "16.0.2+7-67"
  }
 },
 "nbformat": 4,
 "nbformat_minor": 5
}
