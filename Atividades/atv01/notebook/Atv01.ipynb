{
 "cells": [
  {
   "cell_type": "markdown",
   "id": "a49e99d1-9f68-40a8-a286-903f2fd2251b",
   "metadata": {},
   "source": [
    "# Atv01"
   ]
  },
  {
   "cell_type": "markdown",
   "id": "2f43b1b3-44a5-4b52-81b9-1b57ace64201",
   "metadata": {},
   "source": [
    "Apresente a soma de todos os argumentos inteiros ou reais recebidos"
   ]
  },
  {
   "cell_type": "code",
   "execution_count": 2,
   "id": "006e1eeb",
   "metadata": {
    "tags": [],
    "vscode": {
     "languageId": "java"
    }
   },
   "outputs": [
    {
     "name": "stdout",
     "output_type": "stream",
     "text": [
      "Digite um número para incrementar a soma (para finalizar e visualizar o resultado digite 0): 5\n",
      "Digite um número para incrementar a soma (para finalizar e visualizar o resultado digite 0): 5\n",
      "Digite um número para incrementar a soma (para finalizar e visualizar o resultado digite 0): 5\n",
      "Digite um número para incrementar a soma (para finalizar e visualizar o resultado digite 0): 5\n",
      "Digite um número para incrementar a soma (para finalizar e visualizar o resultado digite 0): 5\n",
      "Digite um número para incrementar a soma (para finalizar e visualizar o resultado digite 0): 5\n",
      "Digite um número para incrementar a soma (para finalizar e visualizar o resultado digite 0): 1\n",
      "Digite um número para incrementar a soma (para finalizar e visualizar o resultado digite 0): 1\n",
      "Digite um número para incrementar a soma (para finalizar e visualizar o resultado digite 0): 1\n",
      "Digite um número para incrementar a soma (para finalizar e visualizar o resultado digite 0): 2\n",
      "Digite um número para incrementar a soma (para finalizar e visualizar o resultado digite 0): 0\n",
      "O resultado da soma é: 35.0\n"
     ]
    }
   ],
   "source": [
    "import java.util.*;\n",
    "\n",
    "Scanner in = new Scanner(System.in);\n",
    "\n",
    "double opcao = -1;\n",
    "double soma = 0;\n",
    "\n",
    "do {\n",
    "    try {\n",
    "        System.out.print(\"Digite um número para incrementar a soma (para finalizar e visualizar o resultado digite 0): \");\n",
    "        opcao = in.nextDouble();\n",
    "        soma = soma + opcao;\n",
    "    } catch (Exception e) {\n",
    "        in.nextLine();\n",
    "    }\n",
    "    } while (opcao != 0);\n",
    "        System.out.println(\"O resultado da soma é: \" + soma);\n",
    "        in.close();"
   ]
  }
 ],
 "metadata": {
  "kernelspec": {
   "display_name": "Java",
   "language": "java",
   "name": "java"
  },
  "language_info": {
   "codemirror_mode": "java",
   "file_extension": ".jshell",
   "mimetype": "text/x-java-source",
   "name": "Java",
   "pygments_lexer": "java",
   "version": "17.0.6+10-Ubuntu-0ubuntu122.04"
  }
 },
 "nbformat": 4,
 "nbformat_minor": 5
}
