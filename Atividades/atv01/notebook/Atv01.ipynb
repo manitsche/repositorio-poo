{
 "cells": [
  {
   "cell_type": "markdown",
   "id": "a49e99d1-9f68-40a8-a286-903f2fd2251b",
   "metadata": {},
   "source": [
    "# Atv01"
   ]
  },
  {
   "cell_type": "markdown",
   "id": "2f43b1b3-44a5-4b52-81b9-1b57ace64201",
   "metadata": {},
   "source": [
    "Apresente a soma de todos os argumentos inteiros ou reais recebidos"
   ]
  },
  {
   "cell_type": "code",
   "execution_count": 3,
   "id": "006e1eeb",
   "metadata": {
    "tags": [],
    "vscode": {
     "languageId": "java"
    }
   },
   "outputs": [
    {
     "name": "stdout",
     "output_type": "stream",
     "text": [
      "Informe o primeiro número: \n"
     ]
    },
    {
     "name": "stdin",
     "output_type": "stream",
     "text": [
      " 1\n"
     ]
    },
    {
     "name": "stdout",
     "output_type": "stream",
     "text": [
      "Informe o segundo número: \n"
     ]
    },
    {
     "name": "stdin",
     "output_type": "stream",
     "text": [
      " 2\n"
     ]
    },
    {
     "name": "stdout",
     "output_type": "stream",
     "text": [
      "1.0 + 2.0 = 3.0\n"
     ]
    }
   ],
   "source": [
    "import java.util.*;\n",
    "\n",
    "Scanner in = new Scanner(System.in);\n",
    "\n",
    "float n1, n2, soma;\n",
    "\n",
    "try {\n",
    "    System.out.println(\"Informe o primeiro número: \");\n",
    "    n1 = in.nextFloat();\n",
    "    System.out.println(\"Informe o segundo número: \");\n",
    "    n2 = in.nextFloat();\n",
    "} catch (java.util.InputMismatchException e) {\n",
    "    System.out.print(\"\");\n",
    "}\n",
    "\n",
    "soma = n1 + n2;\n",
    "\n",
    "System.out.println(n1 + \" + \" + n2 + \" = \" + soma);"
   ]
  }
 ],
 "metadata": {
  "kernelspec": {
   "display_name": "Java",
   "language": "java",
   "name": "java"
  },
  "language_info": {
   "codemirror_mode": "java",
   "file_extension": ".jshell",
   "mimetype": "text/x-java-source",
   "name": "Java",
   "pygments_lexer": "java",
   "version": "17.0.6+10-Ubuntu-0ubuntu122.04"
  }
 },
 "nbformat": 4,
 "nbformat_minor": 5
}
