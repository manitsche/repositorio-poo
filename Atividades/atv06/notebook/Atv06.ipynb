{
 "cells": [
  {
   "cell_type": "markdown",
   "id": "68af471b-2729-42db-900e-3455f8c3e760",
   "metadata": {},
   "source": [
    "## Atv06"
   ]
  },
  {
   "cell_type": "markdown",
   "id": "37d78c78-a46d-4c42-97b9-b985c0834b1c",
   "metadata": {},
   "source": [
    "Dados os valores de um depósito fixo mensal e um montante desejado, exiba abaixo o trecho do código em java para determinar quantos meses serão necessários para acumular o montante desejado, considerando juros mensais de 0,5%."
   ]
  },
  {
   "cell_type": "code",
   "execution_count": 2,
   "id": "6cf7a206-6753-47ee-a7d7-927ec7dfe53f",
   "metadata": {
    "tags": []
   },
   "outputs": [
    {
     "name": "stdout",
     "output_type": "stream",
     "text": [
      "Digite o valor do depósito fixo mensal: "
     ]
    },
    {
     "name": "stdin",
     "output_type": "stream",
     "text": [
      " 200\n"
     ]
    },
    {
     "name": "stdout",
     "output_type": "stream",
     "text": [
      "Digite o valor do montante desejado: "
     ]
    },
    {
     "name": "stdin",
     "output_type": "stream",
     "text": [
      " 2000\n"
     ]
    },
    {
     "name": "stdout",
     "output_type": "stream",
     "text": [
      "Serão necessários 10 meses para acumular o montante desejado\n"
     ]
    }
   ],
   "source": [
    "Scanner in = new Scanner(System.in);\n",
    "\n",
    "double deposito, montante, juros;\n",
    "double saldo = 0.0;\n",
    "int meses = 0;\n",
    "\n",
    "System.out.print(\"Digite o valor do depósito fixo mensal: \");\n",
    "deposito = in.nextDouble();\n",
    "System.out.print(\"Digite o valor do montante desejado: \");\n",
    "montante = in.nextDouble();\n",
    "\n",
    "while (saldo < montante) {\n",
    "    saldo = saldo + deposito;\n",
    "    juros = saldo * 0.005;\n",
    "    saldo = saldo + juros;\n",
    "    meses = meses + 1;\n",
    "}\n",
    "\n",
    "System.out.println(\"Serão necessários \" + meses + \" meses para acumular o montante desejado\");"
   ]
  },
  {
   "cell_type": "code",
   "execution_count": null,
   "id": "ee293a24",
   "metadata": {},
   "outputs": [],
   "source": []
  }
 ],
 "metadata": {
  "kernelspec": {
   "display_name": "Java",
   "language": "java",
   "name": "java"
  },
  "language_info": {
   "codemirror_mode": "java",
   "file_extension": ".jshell",
   "mimetype": "text/x-java-source",
   "name": "Java",
   "pygments_lexer": "java",
   "version": "17.0.6+10-Ubuntu-0ubuntu122.04"
  },
  "toc": {
   "base_numbering": 1,
   "nav_menu": {},
   "number_sections": false,
   "sideBar": false,
   "skip_h1_title": false,
   "title_cell": "Table of Contents",
   "title_sidebar": "Contents",
   "toc_cell": false,
   "toc_position": {},
   "toc_section_display": false,
   "toc_window_display": false
  }
 },
 "nbformat": 4,
 "nbformat_minor": 5
}
