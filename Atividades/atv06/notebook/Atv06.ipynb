{
 "cells": [
  {
   "cell_type": "markdown",
   "id": "599f5bd9",
   "metadata": {},
   "source": [
    "# Atv06"
   ]
  },
  {
   "cell_type": "markdown",
   "id": "d86eb737",
   "metadata": {},
   "source": [
    "Dados os valores de um depósito fixo mensal e um montante desejado, crie uma classe para determinar quantos meses serão necessários para acumular o montante desejado, considerando juros mensais de 0,5%."
   ]
  },
  {
   "cell_type": "code",
   "execution_count": 2,
   "id": "01ef2c16",
   "metadata": {},
   "outputs": [
    {
     "name": "stdout",
     "output_type": "stream",
     "text": [
      "Digite o valor do depósito fixo mensal: 200\n",
      "Digite o valor do montante desejado: 2000\n",
      "Serão necessários 10 meses para acumular o montante desejado\n"
     ]
    }
   ],
   "source": [
    "import java.util.*;\n",
    "\n",
    "Scanner in = new Scanner(System.in);\n",
    "\n",
    "double deposito, montante, juros;\n",
    "double saldo = 0.0;\n",
    "int meses = 0;\n",
    "\n",
    "System.out.print(\"Digite o valor do depósito fixo mensal: \");\n",
    "deposito = in.nextDouble();\n",
    "System.out.print(\"Digite o valor do montante desejado: \");\n",
    "montante = in.nextDouble();\n",
    "\n",
    "while (saldo < montante) {\n",
    "    saldo = saldo + deposito;\n",
    "    juros = saldo * 0.005;\n",
    "    saldo = saldo + juros;\n",
    "    meses = meses + 1;\n",
    "}\n",
    "\n",
    "System.out.println(\"Serão necessários \" + meses + \" meses para acumular o montante desejado\");"
   ]
  }
 ],
 "metadata": {
  "kernelspec": {
   "display_name": "Java",
   "language": "java",
   "name": "java"
  },
  "language_info": {
   "codemirror_mode": "java",
   "file_extension": ".jshell",
   "mimetype": "text/x-java-source",
   "name": "Java",
   "pygments_lexer": "java",
   "version": "17.0.6+10-Ubuntu-0ubuntu122.04"
  }
 },
 "nbformat": 4,
 "nbformat_minor": 5
}
