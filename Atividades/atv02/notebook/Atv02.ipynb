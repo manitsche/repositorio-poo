{
 "cells": [
  {
   "cell_type": "markdown",
   "id": "8e367eef-f4bc-47e0-9f66-d3f481477ba3",
   "metadata": {},
   "source": [
    "# Atv02"
   ]
  },
  {
   "cell_type": "markdown",
   "id": "d9656571-a4ec-45a6-aae5-150e30b79680",
   "metadata": {},
   "source": [
    "Exibir a mensagem “Informe um inteiro: “, deixando o cursor na mesma linha"
   ]
  },
  {
   "cell_type": "code",
   "execution_count": 1,
   "id": "0501763a-8be5-423c-8bd4-6fd99bce483a",
   "metadata": {
    "tags": [],
    "vscode": {
     "languageId": "java"
    }
   },
   "outputs": [
    {
     "name": "stdout",
     "output_type": "stream",
     "text": [
      "Informe um inteiro: Informe um inteiro: "
     ]
    }
   ],
   "source": [
    "import java.util.*;\n",
    "\n",
    "Scanner in = new Scanner(System.in);\n",
    "\n",
    "int a, b, c;\n",
    "\n",
    "System.out.print(\"Informe um inteiro: \");\n",
    "b = in.nextInt();\n",
    "System.out.print(\"Informe um inteiro: \");\n",
    "c = in.nextInt();"
   ]
  },
  {
   "cell_type": "markdown",
   "id": "7de60167-1226-42ca-be9c-5907cbad6eb0",
   "metadata": {},
   "source": [
    "Atribuir o produto das variáveis b e c para a variável a"
   ]
  },
  {
   "cell_type": "code",
   "execution_count": 2,
   "id": "fc797b46-957d-4576-91bf-21d692630cf6",
   "metadata": {
    "tags": [],
    "vscode": {
     "languageId": "java"
    }
   },
   "outputs": [],
   "source": [
    "a = b * c;"
   ]
  },
  {
   "cell_type": "markdown",
   "id": "d19e3bb2-7c43-47d8-a839-40850540c807",
   "metadata": {},
   "source": [
    "Demonstrar a execução do cálculo e utilizar um comentário para afirmar que é um programa de exemplo de folha de pagamento."
   ]
  },
  {
   "cell_type": "code",
   "execution_count": 3,
   "id": "2b083026-31ef-436d-90cf-5337ecf5dacf",
   "metadata": {
    "tags": [],
    "vscode": {
     "languageId": "java"
    }
   },
   "outputs": [
    {
     "name": "stdout",
     "output_type": "stream",
     "text": [
      "O produto de 2 e 3 é: 6"
     ]
    }
   ],
   "source": [
    "System.out.print(\"O produto de \" + b + \" e \" + c + \" é: \" + a);\n",
    "\n",
    "// Este programa serve de exemplo quanto a programas de cálculo para folhas de pagamento"
   ]
  }
 ],
 "metadata": {
  "kernelspec": {
   "display_name": "Java",
   "language": "java",
   "name": "java"
  },
  "language_info": {
   "codemirror_mode": "java",
   "file_extension": ".jshell",
   "mimetype": "text/x-java-source",
   "name": "Java",
   "pygments_lexer": "java",
   "version": "17.0.6+10-Ubuntu-0ubuntu122.04"
  }
 },
 "nbformat": 4,
 "nbformat_minor": 5
}
