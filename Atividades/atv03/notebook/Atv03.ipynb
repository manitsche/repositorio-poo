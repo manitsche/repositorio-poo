{
 "cells": [
  {
   "cell_type": "markdown",
   "id": "1bd8a8e1-7fcf-4f34-bdee-da812a345a8d",
   "metadata": {},
   "source": [
    "# Atv03"
   ]
  },
  {
   "cell_type": "markdown",
   "id": "9e2c2760-d7b1-44d0-9cf7-a89111444f70",
   "metadata": {},
   "source": [
    "Usando a classe JOptionPane para entrada de dados, receba a nota de duas provas e de um trabalho. "
   ]
  },
  {
   "cell_type": "code",
   "execution_count": 1,
   "id": "6b094873-e4e0-45ea-baf7-f842b8359c06",
   "metadata": {},
   "outputs": [],
   "source": [
    "import javax.swing.JOptionPane; // Importa a biblioteca JOptionPane\n",
    "\n",
    "// Declaração das variáveis que serão utilizadas\n",
    "String strNotaProva1, strNotaProva2, strNotaTrabalho;\n",
    "double p1, p2, t1, media;\n",
    "\n",
    "// O código abaixo gera caixas de diálogo solicitando ao usuário as notas das provas e do trabalho\n",
    "strNotaProva1 = JOptionPane.showInputDialog(\"Digite a nota da primeira prova:\");\n",
    "p1 = Double.parseDouble(strNotaProva1);\n",
    "strNotaProva2 = JOptionPane.showInputDialog(\"Digite a nota da segunda prova:\");\n",
    "p2 = Double.parseDouble(strNotaProva2);\n",
    "strNotaTrabalho = JOptionPane.showInputDialog(\"Digite a nota do trabalho:\");\n",
    "t1 = Double.parseDouble(strNotaTrabalho);"
   ]
  },
  {
   "cell_type": "markdown",
   "id": "ca29f480-267a-40e2-939f-c0ce40b49f15",
   "metadata": {},
   "source": [
    "Calcule a média "
   ]
  },
  {
   "cell_type": "code",
   "execution_count": 2,
   "id": "238ed4ec-48d8-4379-b2f0-ada57d1fd0aa",
   "metadata": {},
   "outputs": [],
   "source": [
    "// Cálculo da média\n",
    "media = (p1 + p2 + t1) / 3;"
   ]
  },
  {
   "cell_type": "markdown",
   "id": "93b85082-dc22-46e4-9456-2603cc2a9464",
   "metadata": {},
   "source": [
    "Mostre a média usando o showMessageDialog da classe JOptionPane"
   ]
  },
  {
   "cell_type": "code",
   "execution_count": 3,
   "id": "90cf3646-767c-4028-8a64-12a622fcd0b1",
   "metadata": {},
   "outputs": [],
   "source": [
    "// O código abaixo gera uma caixa de diálogo que mostrando a média\n",
    "JOptionPane.showMessageDialog(null, \"A média, considerando as três atividades é \" + media);"
   ]
  }
 ],
 "metadata": {
  "kernelspec": {
   "display_name": "Java",
   "language": "java",
   "name": "java"
  },
  "language_info": {
   "codemirror_mode": "java",
   "file_extension": ".jshell",
   "mimetype": "text/x-java-source",
   "name": "Java",
   "pygments_lexer": "java",
   "version": "17.0.6+10-Ubuntu-0ubuntu122.04"
  }
 },
 "nbformat": 4,
 "nbformat_minor": 5
}
