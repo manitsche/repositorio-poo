{
 "cells": [
  {
   "cell_type": "markdown",
   "id": "a2c2cfcc-91c6-4294-9054-6fd3845a2514",
   "metadata": {},
   "source": [
    "# Atv05"
   ]
  },
  {
   "cell_type": "markdown",
   "id": "e12a6d48-a97f-4071-b48f-38c437269052",
   "metadata": {},
   "source": [
    "1 - Declare uma variável do tipo real chamada gastosJaneiro e inicialize-a com o valor gasto no mês de janeiro, declare também as variáveis gastosFevereiro e gastosMarco, inicializando-as com os respectivos gastos, utilize uma linha para cada declaração;\n",
    "\n",
    "2 - Crie uma variável chamada gastosTrimestre e inicialize-a com a soma das outras variáveis."
   ]
  },
  {
   "cell_type": "code",
   "execution_count": 3,
   "id": "f05cef05-3fa4-467d-bb08-72f6c35b6a02",
   "metadata": {
    "tags": []
   },
   "outputs": [],
   "source": [
    "import java.text.NumberFormat;\n",
    "import java.util.Locale;\n",
    "\n",
    "// Ajusta os valores numéricos para reais\n",
    "Locale ptBR = new Locale(\"pt\", \"BR\");\n",
    "        \n",
    "float gastosJaneiro = (float) 30000;\n",
    "float gastosFevereiro = (float) 33030.77;\n",
    "float gastosMarco = (float) 23899.01;\n",
    "\n",
    "float gastosTrimestre = gastosJaneiro + gastosFevereiro + gastosMarco;"
   ]
  },
  {
   "cell_type": "markdown",
   "id": "531541b9-b47f-4f2a-b4eb-41737ebd92f4",
   "metadata": {
    "tags": []
   },
   "source": [
    "Exiba a variável gastosTrimestre"
   ]
  },
  {
   "cell_type": "code",
   "execution_count": 4,
   "id": "8803de69-7acd-47a6-9b25-2e56013e1219",
   "metadata": {
    "tags": []
   },
   "outputs": [
    {
     "name": "stdout",
     "output_type": "stream",
     "text": [
      "R$ 86.929,78\n"
     ]
    }
   ],
   "source": [
    "// Formata os valores, e mostra os valores formatados em reais na tela\n",
    "String valorFormatado = NumberFormat.getCurrencyInstance(ptBR).format(gastosTrimestre);\n",
    "System.out.println(valorFormatado);"
   ]
  },
  {
   "cell_type": "markdown",
   "id": "31f3ab6e-e793-458c-a3ae-b49dec81a838",
   "metadata": {
    "tags": []
   },
   "source": [
    "Declare a variável mediaMensal e faça o cálculo para a média mensal de gastos"
   ]
  },
  {
   "cell_type": "code",
   "execution_count": 5,
   "id": "f52360b1-ad7e-437b-92c8-94778d31aeaa",
   "metadata": {
    "tags": []
   },
   "outputs": [],
   "source": [
    "float media = gastosTrimestre / 3;\n",
    "\n",
    "String mediaMensal = NumberFormat.getCurrencyInstance(ptBR).format(media);"
   ]
  },
  {
   "cell_type": "markdown",
   "id": "60aad922-0628-45de-b4a3-ff8050f76726",
   "metadata": {},
   "source": [
    "Exiba a mensagem \"Valor da média mensal = \" juntamente com o valor da média mensal"
   ]
  },
  {
   "cell_type": "code",
   "execution_count": 6,
   "id": "46798d6e-8cc5-4d5a-9dbc-ccfad048584a",
   "metadata": {},
   "outputs": [
    {
     "name": "stdout",
     "output_type": "stream",
     "text": [
      "Valor da média mensal = R$ 28.976,59\n"
     ]
    }
   ],
   "source": [
    "System.out.println(\"Valor da média mensal = \" + mediaMensal);"
   ]
  },
  {
   "cell_type": "code",
   "execution_count": null,
   "id": "c601a449-ae44-4dfb-9e85-ab3c2b8593c7",
   "metadata": {},
   "outputs": [],
   "source": []
  }
 ],
 "metadata": {
  "kernelspec": {
   "display_name": "Java",
   "language": "java",
   "name": "java"
  },
  "language_info": {
   "codemirror_mode": "java",
   "file_extension": ".jshell",
   "mimetype": "text/x-java-source",
   "name": "Java",
   "pygments_lexer": "java",
   "version": "17.0.6+10-Ubuntu-0ubuntu122.04"
  }
 },
 "nbformat": 4,
 "nbformat_minor": 5
}
